{
 "cells": [
  {
   "cell_type": "code",
   "execution_count": 1,
   "metadata": {
    "collapsed": true
   },
   "outputs": [],
   "source": [
    "import pandas as pd"
   ]
  },
  {
   "cell_type": "code",
   "execution_count": 79,
   "metadata": {
    "collapsed": true
   },
   "outputs": [],
   "source": [
    "covid = pd.read_csv(\"https://raw.githubusercontent.com/pcm-dpc/COVID-19/master/dati-andamento-nazionale/dpc-covid19-ita-andamento-nazionale.csv\") \n",
    "tc = covid['totale_casi']\n",
    "tt = covid['tamponi']\n",
    "RS= covid['ricoverati_con_sintomi']\n",
    "date=covid['data'] \n",
    "TI=covid['terapia_intensiva']\n",
    "NP=covid['nuovi_positivi']"
   ]
  },
  {
   "cell_type": "code",
   "execution_count": 80,
   "metadata": {},
   "outputs": [
    {
     "data": {
      "text/plain": [
       "0    101\n",
       "1    114\n",
       "2    128\n",
       "3    248\n",
       "4    345\n",
       "Name: ricoverati_con_sintomi, dtype: int64"
      ]
     },
     "execution_count": 80,
     "metadata": {},
     "output_type": "execute_result"
    }
   ],
   "source": [
    "RS.head()"
   ]
  },
  {
   "cell_type": "code",
   "execution_count": 81,
   "metadata": {},
   "outputs": [
    {
     "data": {
      "text/plain": [
       "598"
      ]
     },
     "execution_count": 81,
     "metadata": {},
     "output_type": "execute_result"
    }
   ],
   "source": [
    "len(RS)"
   ]
  },
  {
   "cell_type": "code",
   "execution_count": 112,
   "metadata": {},
   "outputs": [
    {
     "data": {
      "text/plain": [
       "0      2020-02-24\n",
       "1      2020-02-25\n",
       "2      2020-02-26\n",
       "3      2020-02-27\n",
       "4      2020-02-28\n",
       "          ...    \n",
       "593    2021-10-09\n",
       "594    2021-10-10\n",
       "595    2021-10-11\n",
       "596    2021-10-12\n",
       "597    2021-10-13\n",
       "Name: data, Length: 598, dtype: object"
      ]
     },
     "execution_count": 112,
     "metadata": {},
     "output_type": "execute_result"
    }
   ],
   "source": [
    "covid[\"data\"] = pd.to_datetime(covid[\"data\"]).dt.date\n",
    "covid.data"
   ]
  },
  {
   "cell_type": "code",
   "execution_count": 103,
   "metadata": {
    "scrolled": true
   },
   "outputs": [
    {
     "data": {
      "text/plain": [
       "0       2\n",
       "1       2\n",
       "2       2\n",
       "3       2\n",
       "4       2\n",
       "       ..\n",
       "593    10\n",
       "594    10\n",
       "595    10\n",
       "596    10\n",
       "597    10\n",
       "Name: month, Length: 598, dtype: int64"
      ]
     },
     "execution_count": 103,
     "metadata": {},
     "output_type": "execute_result"
    }
   ],
   "source": [
    "covid[\"month\"] = pd.to_datetime(covid[\"data\"]).dt.month\n",
    "covid.month"
   ]
  },
  {
   "cell_type": "code",
   "execution_count": 104,
   "metadata": {},
   "outputs": [
    {
     "data": {
      "text/plain": [
       "0      24\n",
       "1      25\n",
       "2      26\n",
       "3      27\n",
       "4      28\n",
       "       ..\n",
       "593     9\n",
       "594    10\n",
       "595    11\n",
       "596    12\n",
       "597    13\n",
       "Name: day, Length: 598, dtype: int64"
      ]
     },
     "execution_count": 104,
     "metadata": {},
     "output_type": "execute_result"
    }
   ],
   "source": [
    "covid[\"day\"] = pd.to_datetime(covid[\"data\"]).dt.day\n",
    "covid.day"
   ]
  },
  {
   "cell_type": "code",
   "execution_count": 120,
   "metadata": {},
   "outputs": [
    {
     "data": {
      "text/plain": [
       "0      24-02\n",
       "1      25-02\n",
       "2      26-02\n",
       "3      27-02\n",
       "4      28-02\n",
       "       ...  \n",
       "593    09-10\n",
       "594    10-10\n",
       "595    11-10\n",
       "596    12-10\n",
       "597    13-10\n",
       "Name: DayMonth, Length: 598, dtype: object"
      ]
     },
     "execution_count": 120,
     "metadata": {},
     "output_type": "execute_result"
    }
   ],
   "source": [
    "covid['DayMonth'] = covid['data'].apply(lambda x:x.strftime('%d-%m'))\n",
    "covid.DayMonth"
   ]
  },
  {
   "cell_type": "code",
   "execution_count": 121,
   "metadata": {
    "collapsed": true
   },
   "outputs": [],
   "source": [
    "RS_2021=RS[len(RS)-60:len(RS)]\n",
    "RS_2020=RS[len(RS)-60-365:len(RS)-365]"
   ]
  },
  {
   "cell_type": "code",
   "execution_count": 127,
   "metadata": {},
   "outputs": [],
   "source": [
    "DayMonth=covid.DayMonth"
   ]
  },
  {
   "cell_type": "code",
   "execution_count": 158,
   "metadata": {},
   "outputs": [
    {
     "data": {
      "text/html": [
       "<div>\n",
       "<style scoped>\n",
       "    .dataframe tbody tr th:only-of-type {\n",
       "        vertical-align: middle;\n",
       "    }\n",
       "\n",
       "    .dataframe tbody tr th {\n",
       "        vertical-align: top;\n",
       "    }\n",
       "\n",
       "    .dataframe thead th {\n",
       "        text-align: right;\n",
       "    }\n",
       "</style>\n",
       "<table border=\"1\" class=\"dataframe\">\n",
       "  <thead>\n",
       "    <tr style=\"text-align: right;\">\n",
       "      <th></th>\n",
       "      <th>data</th>\n",
       "      <th>stato</th>\n",
       "      <th>ricoverati_con_sintomi</th>\n",
       "      <th>terapia_intensiva</th>\n",
       "      <th>totale_ospedalizzati</th>\n",
       "      <th>isolamento_domiciliare</th>\n",
       "      <th>totale_positivi</th>\n",
       "      <th>variazione_totale_positivi</th>\n",
       "      <th>nuovi_positivi</th>\n",
       "      <th>dimessi_guariti</th>\n",
       "      <th>...</th>\n",
       "      <th>note_casi</th>\n",
       "      <th>totale_positivi_test_molecolare</th>\n",
       "      <th>totale_positivi_test_antigenico_rapido</th>\n",
       "      <th>tamponi_test_molecolare</th>\n",
       "      <th>tamponi_test_antigenico_rapido</th>\n",
       "      <th>month</th>\n",
       "      <th>day</th>\n",
       "      <th>dataplot</th>\n",
       "      <th>MonthDay</th>\n",
       "      <th>DayMonth</th>\n",
       "    </tr>\n",
       "  </thead>\n",
       "  <tbody>\n",
       "    <tr>\n",
       "      <th>0</th>\n",
       "      <td>2020-02-24</td>\n",
       "      <td>ITA</td>\n",
       "      <td>101</td>\n",
       "      <td>26</td>\n",
       "      <td>127</td>\n",
       "      <td>94</td>\n",
       "      <td>221</td>\n",
       "      <td>0</td>\n",
       "      <td>221</td>\n",
       "      <td>1</td>\n",
       "      <td>...</td>\n",
       "      <td>NaN</td>\n",
       "      <td>NaN</td>\n",
       "      <td>NaN</td>\n",
       "      <td>NaN</td>\n",
       "      <td>NaN</td>\n",
       "      <td>2</td>\n",
       "      <td>24</td>\n",
       "      <td>covid.monthcovid.day</td>\n",
       "      <td>24-02</td>\n",
       "      <td>24-02</td>\n",
       "    </tr>\n",
       "    <tr>\n",
       "      <th>1</th>\n",
       "      <td>2020-02-25</td>\n",
       "      <td>ITA</td>\n",
       "      <td>114</td>\n",
       "      <td>35</td>\n",
       "      <td>150</td>\n",
       "      <td>162</td>\n",
       "      <td>311</td>\n",
       "      <td>90</td>\n",
       "      <td>93</td>\n",
       "      <td>1</td>\n",
       "      <td>...</td>\n",
       "      <td>NaN</td>\n",
       "      <td>NaN</td>\n",
       "      <td>NaN</td>\n",
       "      <td>NaN</td>\n",
       "      <td>NaN</td>\n",
       "      <td>2</td>\n",
       "      <td>25</td>\n",
       "      <td>covid.monthcovid.day</td>\n",
       "      <td>25-02</td>\n",
       "      <td>25-02</td>\n",
       "    </tr>\n",
       "    <tr>\n",
       "      <th>2</th>\n",
       "      <td>2020-02-26</td>\n",
       "      <td>ITA</td>\n",
       "      <td>128</td>\n",
       "      <td>36</td>\n",
       "      <td>164</td>\n",
       "      <td>221</td>\n",
       "      <td>385</td>\n",
       "      <td>74</td>\n",
       "      <td>78</td>\n",
       "      <td>3</td>\n",
       "      <td>...</td>\n",
       "      <td>NaN</td>\n",
       "      <td>NaN</td>\n",
       "      <td>NaN</td>\n",
       "      <td>NaN</td>\n",
       "      <td>NaN</td>\n",
       "      <td>2</td>\n",
       "      <td>26</td>\n",
       "      <td>covid.monthcovid.day</td>\n",
       "      <td>26-02</td>\n",
       "      <td>26-02</td>\n",
       "    </tr>\n",
       "    <tr>\n",
       "      <th>3</th>\n",
       "      <td>2020-02-27</td>\n",
       "      <td>ITA</td>\n",
       "      <td>248</td>\n",
       "      <td>56</td>\n",
       "      <td>304</td>\n",
       "      <td>284</td>\n",
       "      <td>588</td>\n",
       "      <td>203</td>\n",
       "      <td>250</td>\n",
       "      <td>45</td>\n",
       "      <td>...</td>\n",
       "      <td>NaN</td>\n",
       "      <td>NaN</td>\n",
       "      <td>NaN</td>\n",
       "      <td>NaN</td>\n",
       "      <td>NaN</td>\n",
       "      <td>2</td>\n",
       "      <td>27</td>\n",
       "      <td>covid.monthcovid.day</td>\n",
       "      <td>27-02</td>\n",
       "      <td>27-02</td>\n",
       "    </tr>\n",
       "    <tr>\n",
       "      <th>4</th>\n",
       "      <td>2020-02-28</td>\n",
       "      <td>ITA</td>\n",
       "      <td>345</td>\n",
       "      <td>64</td>\n",
       "      <td>409</td>\n",
       "      <td>412</td>\n",
       "      <td>821</td>\n",
       "      <td>233</td>\n",
       "      <td>238</td>\n",
       "      <td>46</td>\n",
       "      <td>...</td>\n",
       "      <td>NaN</td>\n",
       "      <td>NaN</td>\n",
       "      <td>NaN</td>\n",
       "      <td>NaN</td>\n",
       "      <td>NaN</td>\n",
       "      <td>2</td>\n",
       "      <td>28</td>\n",
       "      <td>covid.monthcovid.day</td>\n",
       "      <td>28-02</td>\n",
       "      <td>28-02</td>\n",
       "    </tr>\n",
       "    <tr>\n",
       "      <th>...</th>\n",
       "      <td>...</td>\n",
       "      <td>...</td>\n",
       "      <td>...</td>\n",
       "      <td>...</td>\n",
       "      <td>...</td>\n",
       "      <td>...</td>\n",
       "      <td>...</td>\n",
       "      <td>...</td>\n",
       "      <td>...</td>\n",
       "      <td>...</td>\n",
       "      <td>...</td>\n",
       "      <td>...</td>\n",
       "      <td>...</td>\n",
       "      <td>...</td>\n",
       "      <td>...</td>\n",
       "      <td>...</td>\n",
       "      <td>...</td>\n",
       "      <td>...</td>\n",
       "      <td>...</td>\n",
       "      <td>...</td>\n",
       "      <td>...</td>\n",
       "    </tr>\n",
       "    <tr>\n",
       "      <th>593</th>\n",
       "      <td>2021-10-09</td>\n",
       "      <td>ITA</td>\n",
       "      <td>2692</td>\n",
       "      <td>367</td>\n",
       "      <td>3059</td>\n",
       "      <td>82243</td>\n",
       "      <td>85302</td>\n",
       "      <td>-624</td>\n",
       "      <td>2748</td>\n",
       "      <td>4481462</td>\n",
       "      <td>...</td>\n",
       "      <td>NaN</td>\n",
       "      <td>4524928.0</td>\n",
       "      <td>173110.0</td>\n",
       "      <td>61075375.0</td>\n",
       "      <td>33985752.0</td>\n",
       "      <td>10</td>\n",
       "      <td>9</td>\n",
       "      <td>covid.monthcovid.day</td>\n",
       "      <td>09-10</td>\n",
       "      <td>09-10</td>\n",
       "    </tr>\n",
       "    <tr>\n",
       "      <th>594</th>\n",
       "      <td>2021-10-10</td>\n",
       "      <td>ITA</td>\n",
       "      <td>2651</td>\n",
       "      <td>364</td>\n",
       "      <td>3015</td>\n",
       "      <td>81793</td>\n",
       "      <td>84808</td>\n",
       "      <td>-494</td>\n",
       "      <td>2278</td>\n",
       "      <td>4484207</td>\n",
       "      <td>...</td>\n",
       "      <td>NaN</td>\n",
       "      <td>4527045.0</td>\n",
       "      <td>173271.0</td>\n",
       "      <td>61154936.0</td>\n",
       "      <td>34176235.0</td>\n",
       "      <td>10</td>\n",
       "      <td>10</td>\n",
       "      <td>covid.monthcovid.day</td>\n",
       "      <td>10-10</td>\n",
       "      <td>10-10</td>\n",
       "    </tr>\n",
       "    <tr>\n",
       "      <th>595</th>\n",
       "      <td>2021-10-11</td>\n",
       "      <td>ITA</td>\n",
       "      <td>2688</td>\n",
       "      <td>374</td>\n",
       "      <td>3062</td>\n",
       "      <td>81044</td>\n",
       "      <td>84106</td>\n",
       "      <td>-702</td>\n",
       "      <td>1516</td>\n",
       "      <td>4486391</td>\n",
       "      <td>...</td>\n",
       "      <td>NaN</td>\n",
       "      <td>4528481.0</td>\n",
       "      <td>173351.0</td>\n",
       "      <td>61203810.0</td>\n",
       "      <td>34242137.0</td>\n",
       "      <td>10</td>\n",
       "      <td>11</td>\n",
       "      <td>covid.monthcovid.day</td>\n",
       "      <td>11-10</td>\n",
       "      <td>11-10</td>\n",
       "    </tr>\n",
       "    <tr>\n",
       "      <th>596</th>\n",
       "      <td>2021-10-12</td>\n",
       "      <td>ITA</td>\n",
       "      <td>2665</td>\n",
       "      <td>370</td>\n",
       "      <td>3035</td>\n",
       "      <td>79511</td>\n",
       "      <td>82546</td>\n",
       "      <td>-1560</td>\n",
       "      <td>2494</td>\n",
       "      <td>4490388</td>\n",
       "      <td>...</td>\n",
       "      <td>NaN</td>\n",
       "      <td>4530578.0</td>\n",
       "      <td>173740.0</td>\n",
       "      <td>61308451.0</td>\n",
       "      <td>34452781.0</td>\n",
       "      <td>10</td>\n",
       "      <td>12</td>\n",
       "      <td>covid.monthcovid.day</td>\n",
       "      <td>12-10</td>\n",
       "      <td>12-10</td>\n",
       "    </tr>\n",
       "    <tr>\n",
       "      <th>597</th>\n",
       "      <td>2021-10-13</td>\n",
       "      <td>ITA</td>\n",
       "      <td>2552</td>\n",
       "      <td>367</td>\n",
       "      <td>2919</td>\n",
       "      <td>77532</td>\n",
       "      <td>80451</td>\n",
       "      <td>-2095</td>\n",
       "      <td>2772</td>\n",
       "      <td>4495215</td>\n",
       "      <td>...</td>\n",
       "      <td>NaN</td>\n",
       "      <td>4533143.0</td>\n",
       "      <td>173944.0</td>\n",
       "      <td>61428982.0</td>\n",
       "      <td>34611195.0</td>\n",
       "      <td>10</td>\n",
       "      <td>13</td>\n",
       "      <td>covid.monthcovid.day</td>\n",
       "      <td>13-10</td>\n",
       "      <td>13-10</td>\n",
       "    </tr>\n",
       "  </tbody>\n",
       "</table>\n",
       "<p>598 rows × 29 columns</p>\n",
       "</div>"
      ],
      "text/plain": [
       "           data stato  ricoverati_con_sintomi  terapia_intensiva  \\\n",
       "0    2020-02-24   ITA                     101                 26   \n",
       "1    2020-02-25   ITA                     114                 35   \n",
       "2    2020-02-26   ITA                     128                 36   \n",
       "3    2020-02-27   ITA                     248                 56   \n",
       "4    2020-02-28   ITA                     345                 64   \n",
       "..          ...   ...                     ...                ...   \n",
       "593  2021-10-09   ITA                    2692                367   \n",
       "594  2021-10-10   ITA                    2651                364   \n",
       "595  2021-10-11   ITA                    2688                374   \n",
       "596  2021-10-12   ITA                    2665                370   \n",
       "597  2021-10-13   ITA                    2552                367   \n",
       "\n",
       "     totale_ospedalizzati  isolamento_domiciliare  totale_positivi  \\\n",
       "0                     127                      94              221   \n",
       "1                     150                     162              311   \n",
       "2                     164                     221              385   \n",
       "3                     304                     284              588   \n",
       "4                     409                     412              821   \n",
       "..                    ...                     ...              ...   \n",
       "593                  3059                   82243            85302   \n",
       "594                  3015                   81793            84808   \n",
       "595                  3062                   81044            84106   \n",
       "596                  3035                   79511            82546   \n",
       "597                  2919                   77532            80451   \n",
       "\n",
       "     variazione_totale_positivi  nuovi_positivi  dimessi_guariti  ...  \\\n",
       "0                             0             221                1  ...   \n",
       "1                            90              93                1  ...   \n",
       "2                            74              78                3  ...   \n",
       "3                           203             250               45  ...   \n",
       "4                           233             238               46  ...   \n",
       "..                          ...             ...              ...  ...   \n",
       "593                        -624            2748          4481462  ...   \n",
       "594                        -494            2278          4484207  ...   \n",
       "595                        -702            1516          4486391  ...   \n",
       "596                       -1560            2494          4490388  ...   \n",
       "597                       -2095            2772          4495215  ...   \n",
       "\n",
       "     note_casi  totale_positivi_test_molecolare  \\\n",
       "0          NaN                              NaN   \n",
       "1          NaN                              NaN   \n",
       "2          NaN                              NaN   \n",
       "3          NaN                              NaN   \n",
       "4          NaN                              NaN   \n",
       "..         ...                              ...   \n",
       "593        NaN                        4524928.0   \n",
       "594        NaN                        4527045.0   \n",
       "595        NaN                        4528481.0   \n",
       "596        NaN                        4530578.0   \n",
       "597        NaN                        4533143.0   \n",
       "\n",
       "     totale_positivi_test_antigenico_rapido  tamponi_test_molecolare  \\\n",
       "0                                       NaN                      NaN   \n",
       "1                                       NaN                      NaN   \n",
       "2                                       NaN                      NaN   \n",
       "3                                       NaN                      NaN   \n",
       "4                                       NaN                      NaN   \n",
       "..                                      ...                      ...   \n",
       "593                                173110.0               61075375.0   \n",
       "594                                173271.0               61154936.0   \n",
       "595                                173351.0               61203810.0   \n",
       "596                                173740.0               61308451.0   \n",
       "597                                173944.0               61428982.0   \n",
       "\n",
       "     tamponi_test_antigenico_rapido  month day              dataplot  \\\n",
       "0                               NaN      2  24  covid.monthcovid.day   \n",
       "1                               NaN      2  25  covid.monthcovid.day   \n",
       "2                               NaN      2  26  covid.monthcovid.day   \n",
       "3                               NaN      2  27  covid.monthcovid.day   \n",
       "4                               NaN      2  28  covid.monthcovid.day   \n",
       "..                              ...    ...  ..                   ...   \n",
       "593                      33985752.0     10   9  covid.monthcovid.day   \n",
       "594                      34176235.0     10  10  covid.monthcovid.day   \n",
       "595                      34242137.0     10  11  covid.monthcovid.day   \n",
       "596                      34452781.0     10  12  covid.monthcovid.day   \n",
       "597                      34611195.0     10  13  covid.monthcovid.day   \n",
       "\n",
       "     MonthDay  DayMonth  \n",
       "0       24-02     24-02  \n",
       "1       25-02     25-02  \n",
       "2       26-02     26-02  \n",
       "3       27-02     27-02  \n",
       "4       28-02     28-02  \n",
       "..        ...       ...  \n",
       "593     09-10     09-10  \n",
       "594     10-10     10-10  \n",
       "595     11-10     11-10  \n",
       "596     12-10     12-10  \n",
       "597     13-10     13-10  \n",
       "\n",
       "[598 rows x 29 columns]"
      ]
     },
     "execution_count": 158,
     "metadata": {},
     "output_type": "execute_result"
    }
   ],
   "source": [
    "covid"
   ]
  },
  {
   "cell_type": "code",
   "execution_count": 129,
   "metadata": {},
   "outputs": [
    {
     "data": {
      "text/plain": [
       "datetime.date(2020, 2, 29)"
      ]
     },
     "execution_count": 129,
     "metadata": {},
     "output_type": "execute_result"
    }
   ],
   "source": [
    "date[5]"
   ]
  },
  {
   "cell_type": "code",
   "execution_count": 130,
   "metadata": {
    "collapsed": true
   },
   "outputs": [],
   "source": [
    "X = []\n",
    "for i in range(1, len(RS_2021)+1):\n",
    " X.append([i])"
   ]
  },
  {
   "cell_type": "code",
   "execution_count": 185,
   "metadata": {},
   "outputs": [
    {
     "data": {
      "image/png": "[encoded data removed]",
      "text/plain": [
       "<matplotlib.figure.Figure at 0x23bafd43710>"
      ]
     },
     "metadata": {},
     "output_type": "display_data"
    }
   ],
   "source": [
    "import matplotlib.pyplot as plt\n",
    "plt.scatter(X,RS_2020, color='red', label='2020')\n",
    "plt.scatter(X,RS_2021, color='green', label='2021')\n",
    "plt.grid()\n",
    "plt.xlabel('Days', fontsize=14,labelpad = 12)\n",
    "plt.ylabel('Ricoveri in Ospedale', fontsize=14, labelpad = 12)\n",
    "plt.xticks(fontsize=12)\n",
    "plt.yticks(fontsize=12)\n",
    "plt.legend(loc=\"upper left\")\n",
    "plt.xticks([0,10,20,30,40,50,60], [DayMonth[len(RS)-61],DayMonth[len(RS)-51],DayMonth[len(RS)-41],DayMonth[len(RS)-31],DayMonth[len(RS)-21],DayMonth[len(RS)-11],DayMonth[len(RS)-1]])\n",
    "plt.show()"
   ]
  },
  {
   "cell_type": "code",
   "execution_count": 57,
   "metadata": {},
   "outputs": [
    {
     "data": {
      "text/plain": [
       "60"
      ]
     },
     "execution_count": 57,
     "metadata": {},
     "output_type": "execute_result"
    }
   ],
   "source": [
    "TI_2021=TI[len(RS)-60:len(RS)]\n",
    "TI_2020=TI[len(RS)-60-365:len(RS)-365]\n",
    "len(X)\n"
   ]
  },
  {
   "cell_type": "code",
   "execution_count": 186,
   "metadata": {},
   "outputs": [
    {
     "data": {
      "image/png": "[encoded data removed]",
      "text/plain": [
       "<matplotlib.figure.Figure at 0x23baf750898>"
      ]
     },
     "metadata": {},
     "output_type": "display_data"
    }
   ],
   "source": [
    "import matplotlib.pyplot as plt\n",
    "plt.scatter(X,TI_2020, color='red', label='2020')\n",
    "plt.scatter(X,TI_2021, color='green',label='2021')\n",
    "plt.grid()\n",
    "plt.xlabel('Days',fontsize=14, labelpad = 12)\n",
    "plt.ylabel('Terapie Intensive',fontsize=14, labelpad = 12)\n",
    "plt.legend(loc=\"upper left\")\n",
    "plt.xticks(fontsize=12)\n",
    "plt.yticks(fontsize=12)\n",
    "plt.xticks([0,10,20,30,40,50,60], [DayMonth[len(RS)-61],DayMonth[len(RS)-51],DayMonth[len(RS)-41],DayMonth[len(RS)-31],DayMonth[len(RS)-21],DayMonth[len(RS)-11],DayMonth[len(RS)-1]])\n",
    "plt.show()"
   ]
  },
  {
   "cell_type": "markdown",
   "metadata": {},
   "source": [
    "plt.xticks([0,5,10,15,20,25,30,35,40],\n",
    " [“24 Febr”, “29 Febr”, “5 Mar”, “10 Mar”, “15 Mar”, “20 Mar”, “25 Mar”, “30 Mar”, “4 Apr”])"
   ]
  },
  {
   "cell_type": "code",
   "execution_count": 45,
   "metadata": {
    "collapsed": true
   },
   "outputs": [],
   "source": [
    "NP_2021=NP[len(NP)-60:len(NP)]\n",
    "NP_2020=NP[len(NP)-60-365:len(NP)-365]"
   ]
  },
  {
   "cell_type": "code",
   "execution_count": 187,
   "metadata": {},
   "outputs": [
    {
     "data": {
      "image/png": "[encoded data removed]",
      "text/plain": [
       "<matplotlib.figure.Figure at 0x23bae23fe80>"
      ]
     },
     "metadata": {},
     "output_type": "display_data"
    }
   ],
   "source": [
    "import matplotlib.pyplot as plt\n",
    "plt.scatter(X,NP_2020, color='red',label='2020')\n",
    "plt.scatter(X,NP_2021, color='green',label='2021')\n",
    "plt.grid()\n",
    "plt.xlabel('Days',fontsize=14, labelpad = 12)\n",
    "plt.ylabel('Nuovi positivi',fontsize=14, labelpad = 12)\n",
    "plt.xticks(fontsize=12)\n",
    "plt.yticks(fontsize=12)\n",
    "plt.legend(loc=\"upper right\")\n",
    "plt.xticks([0,10,20,30,40,50,60], [DayMonth[len(RS)-61],DayMonth[len(RS)-51],DayMonth[len(RS)-41],DayMonth[len(RS)-31],DayMonth[len(RS)-21],DayMonth[len(RS)-11],DayMonth[len(RS)-1]])\n",
    "plt.show()"
   ]
  },
  {
   "cell_type": "code",
   "execution_count": null,
   "metadata": {
    "collapsed": true
   },
   "outputs": [],
   "source": []
  }
 ],
 "metadata": {
  "kernelspec": {
   "display_name": "Python 3",
   "language": "python",
   "name": "python3"
  }
 },
 "nbformat": 4,
 "nbformat_minor": 2
}
