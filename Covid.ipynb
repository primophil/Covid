{
 "cells": [
  {
   "cell_type": "code",
   "execution_count": 1,
   "metadata": {
    "collapsed": true
   },
   "outputs": [],
   "source": [
    "import pandas as pd"
   ]
  },
  {
   "cell_type": "code",
   "execution_count": 2,
   "metadata": {
    "collapsed": true
   },
   "outputs": [],
   "source": [
    "covid = pd.read_csv(\"https://raw.githubusercontent.com/pcm-dpc/COVID-19/master/dati-andamento-nazionale/dpc-covid19-ita-andamento-nazionale.csv\") \n",
    "tc = covid['totale_casi']\n",
    "tt = covid['tamponi']\n",
    "RS= covid['ricoverati_con_sintomi']\n",
    "date=covid['data'] \n",
    "TI=covid['terapia_intensiva']\n",
    "NP=covid['nuovi_positivi']"
   ]
  },
  {
   "cell_type": "code",
   "execution_count": 3,
   "metadata": {},
   "outputs": [
    {
     "data": {
      "text/plain": [
       "0    101\n",
       "1    114\n",
       "2    128\n",
       "3    248\n",
       "4    345\n",
       "Name: ricoverati_con_sintomi, dtype: int64"
      ]
     },
     "execution_count": 3,
     "metadata": {},
     "output_type": "execute_result"
    }
   ],
   "source": [
    "RS.head()"
   ]
  },
  {
   "cell_type": "code",
   "execution_count": 4,
   "metadata": {},
   "outputs": [
    {
     "data": {
      "text/plain": [
       "600"
      ]
     },
     "execution_count": 4,
     "metadata": {},
     "output_type": "execute_result"
    }
   ],
   "source": [
    "len(RS)"
   ]
  },
  {
   "cell_type": "code",
   "execution_count": 5,
   "metadata": {},
   "outputs": [
    {
     "data": {
      "text/plain": [
       "0      2020-02-24\n",
       "1      2020-02-25\n",
       "2      2020-02-26\n",
       "3      2020-02-27\n",
       "4      2020-02-28\n",
       "          ...    \n",
       "595    2021-10-11\n",
       "596    2021-10-12\n",
       "597    2021-10-13\n",
       "598    2021-10-14\n",
       "599    2021-10-15\n",
       "Name: data, Length: 600, dtype: object"
      ]
     },
     "execution_count": 5,
     "metadata": {},
     "output_type": "execute_result"
    }
   ],
   "source": [
    "covid[\"data\"] = pd.to_datetime(covid[\"data\"]).dt.date\n",
    "covid.data"
   ]
  },
  {
   "cell_type": "code",
   "execution_count": 6,
   "metadata": {
    "scrolled": true
   },
   "outputs": [
    {
     "data": {
      "text/plain": [
       "0       2\n",
       "1       2\n",
       "2       2\n",
       "3       2\n",
       "4       2\n",
       "       ..\n",
       "595    10\n",
       "596    10\n",
       "597    10\n",
       "598    10\n",
       "599    10\n",
       "Name: month, Length: 600, dtype: int64"
      ]
     },
     "execution_count": 6,
     "metadata": {},
     "output_type": "execute_result"
    }
   ],
   "source": [
    "covid[\"month\"] = pd.to_datetime(covid[\"data\"]).dt.month\n",
    "covid.month"
   ]
  },
  {
   "cell_type": "code",
   "execution_count": 7,
   "metadata": {},
   "outputs": [
    {
     "data": {
      "text/plain": [
       "0      24\n",
       "1      25\n",
       "2      26\n",
       "3      27\n",
       "4      28\n",
       "       ..\n",
       "595    11\n",
       "596    12\n",
       "597    13\n",
       "598    14\n",
       "599    15\n",
       "Name: day, Length: 600, dtype: int64"
      ]
     },
     "execution_count": 7,
     "metadata": {},
     "output_type": "execute_result"
    }
   ],
   "source": [
    "covid[\"day\"] = pd.to_datetime(covid[\"data\"]).dt.day\n",
    "covid.day"
   ]
  },
  {
   "cell_type": "code",
   "execution_count": 8,
   "metadata": {},
   "outputs": [
    {
     "data": {
      "text/plain": [
       "0      24-02\n",
       "1      25-02\n",
       "2      26-02\n",
       "3      27-02\n",
       "4      28-02\n",
       "       ...  \n",
       "595    11-10\n",
       "596    12-10\n",
       "597    13-10\n",
       "598    14-10\n",
       "599    15-10\n",
       "Name: DayMonth, Length: 600, dtype: object"
      ]
     },
     "execution_count": 8,
     "metadata": {},
     "output_type": "execute_result"
    }
   ],
   "source": [
    "covid['DayMonth'] = covid['data'].apply(lambda x:x.strftime('%d-%m'))\n",
    "covid.DayMonth"
   ]
  },
  {
   "cell_type": "code",
   "execution_count": 9,
   "metadata": {
    "collapsed": true
   },
   "outputs": [],
   "source": [
    "RS_2021=RS[len(RS)-60:len(RS)]\n",
    "RS_2020=RS[len(RS)-60-365:len(RS)-365]"
   ]
  },
  {
   "cell_type": "code",
   "execution_count": 10,
   "metadata": {
    "collapsed": true
   },
   "outputs": [],
   "source": [
    "DayMonth=covid.DayMonth"
   ]
  },
  {
   "cell_type": "code",
   "execution_count": 87,
   "metadata": {},
   "outputs": [
    {
     "data": {
      "text/plain": [
       "data                                       2020-10-15\n",
       "stato                                             ITA\n",
       "ricoverati_con_sintomi                           5796\n",
       "terapia_intensiva                                 586\n",
       "totale_ospedalizzati                             6382\n",
       "isolamento_domiciliare                          92884\n",
       "totale_positivi                                 99266\n",
       "variazione_totale_positivi                       6821\n",
       "nuovi_positivi                                   8804\n",
       "dimessi_guariti                                245964\n",
       "deceduti                                        36372\n",
       "casi_da_sospetto_diagnostico                   285569\n",
       "casi_da_screening                               96033\n",
       "totale_casi                                    381602\n",
       "tamponi                                      13077827\n",
       "casi_testati                              7.90846e+06\n",
       "note                                              NaN\n",
       "ingressi_terapia_intensiva                        NaN\n",
       "note_test                                         NaN\n",
       "note_casi                                         NaN\n",
       "totale_positivi_test_molecolare                   NaN\n",
       "totale_positivi_test_antigenico_rapido            NaN\n",
       "tamponi_test_molecolare                           NaN\n",
       "tamponi_test_antigenico_rapido                    NaN\n",
       "month                                              10\n",
       "day                                                15\n",
       "DayMonth                                        15-10\n",
       "Name: 234, dtype: object"
      ]
     },
     "execution_count": 87,
     "metadata": {},
     "output_type": "execute_result"
    }
   ],
   "source": [
    "covid.iloc[234]"
   ]
  },
  {
   "cell_type": "code",
   "execution_count": 12,
   "metadata": {},
   "outputs": [
    {
     "data": {
      "text/plain": [
       "datetime.date(2020, 2, 29)"
      ]
     },
     "execution_count": 12,
     "metadata": {},
     "output_type": "execute_result"
    }
   ],
   "source": [
    "date[5]"
   ]
  },
  {
   "cell_type": "code",
   "execution_count": 13,
   "metadata": {
    "collapsed": true
   },
   "outputs": [],
   "source": [
    "X = []\n",
    "for i in range(1, len(RS_2021)+1):\n",
    " X.append([i])"
   ]
  },
  {
   "cell_type": "code",
   "execution_count": 14,
   "metadata": {},
   "outputs": [
    {
     "data": {
      "image/png": "[encoded data removed]",
      "text/plain": [
       "<matplotlib.figure.Figure at 0x1a009953e10>"
      ]
     },
     "metadata": {},
     "output_type": "display_data"
    }
   ],
   "source": [
    "import matplotlib.pyplot as plt\n",
    "plt.scatter(X,RS_2020, color='red', label='2020')\n",
    "plt.scatter(X,RS_2021, color='green', label='2021')\n",
    "plt.grid()\n",
    "plt.xlabel('Days', fontsize=14,labelpad = 12)\n",
    "plt.ylabel('Ricoveri in Ospedale', fontsize=14, labelpad = 12)\n",
    "plt.xticks(fontsize=12)\n",
    "plt.yticks(fontsize=12)\n",
    "plt.legend(loc=\"upper left\")\n",
    "plt.xticks([0,10,20,30,40,50,60], [DayMonth[len(RS)-61],DayMonth[len(RS)-51],DayMonth[len(RS)-41],DayMonth[len(RS)-31],DayMonth[len(RS)-21],DayMonth[len(RS)-11],DayMonth[len(RS)-1]])\n",
    "plt.show()"
   ]
  },
  {
   "cell_type": "code",
   "execution_count": 15,
   "metadata": {},
   "outputs": [
    {
     "data": {
      "text/plain": [
       "60"
      ]
     },
     "execution_count": 15,
     "metadata": {},
     "output_type": "execute_result"
    }
   ],
   "source": [
    "TI_2021=TI[len(RS)-60:len(RS)]\n",
    "TI_2020=TI[len(RS)-60-365:len(RS)-365]\n",
    "len(X)\n"
   ]
  },
  {
   "cell_type": "code",
   "execution_count": 54,
   "metadata": {},
   "outputs": [
    {
     "data": {
      "text/plain": [
       "175"
      ]
     },
     "execution_count": 54,
     "metadata": {},
     "output_type": "execute_result"
    }
   ],
   "source": [
    "600-60-365\n"
   ]
  },
  {
   "cell_type": "code",
   "execution_count": 62,
   "metadata": {},
   "outputs": [
    {
     "data": {
      "text/plain": [
       "175    0.040741\n",
       "176    0.027284\n",
       "177    0.019630\n",
       "178    0.040770\n",
       "179    0.005441\n",
       "         ...   \n",
       "55     0.066829\n",
       "56     0.052894\n",
       "57     0.077620\n",
       "58     0.059598\n",
       "59     1.000000\n",
       "Name: ricoverati_con_sintomi, Length: 120, dtype: float64"
      ]
     },
     "execution_count": 62,
     "metadata": {},
     "output_type": "execute_result"
    }
   ],
   "source": [
    "for i in range(0,len(RS_2020)-1,1):\n",
    "        RS_2020_per[175+i]= (RS_2020[175+i+1]/RS_2020[175+i])-1\n",
    "RS_2020_per"
   ]
  },
  {
   "cell_type": "code",
   "execution_count": 60,
   "metadata": {
    "scrolled": true
   },
   "outputs": [
    {
     "data": {
      "text/plain": [
       "60"
      ]
     },
     "execution_count": 60,
     "metadata": {},
     "output_type": "execute_result"
    }
   ],
   "source": [
    "len(RS_2020)"
   ]
  },
  {
   "cell_type": "code",
   "execution_count": 26,
   "metadata": {},
   "outputs": [
    {
     "data": {
      "text/plain": [
       "60"
      ]
     },
     "execution_count": 26,
     "metadata": {},
     "output_type": "execute_result"
    }
   ],
   "source": [
    "len(RS_2020)"
   ]
  },
  {
   "cell_type": "code",
   "execution_count": 16,
   "metadata": {},
   "outputs": [
    {
     "data": {
      "image/png": "[encoded data removed]",
      "text/plain": [
       "<matplotlib.figure.Figure at 0x1a00a6ee5f8>"
      ]
     },
     "metadata": {},
     "output_type": "display_data"
    }
   ],
   "source": [
    "import matplotlib.pyplot as plt\n",
    "plt.scatter(X,TI_2020, color='red', label='2020')\n",
    "plt.scatter(X,TI_2021, color='green',label='2021')\n",
    "plt.grid()\n",
    "plt.xlabel('Days',fontsize=14, labelpad = 12)\n",
    "plt.ylabel('Terapie Intensive',fontsize=14, labelpad = 12)\n",
    "plt.legend(loc=\"upper left\")\n",
    "plt.xticks(fontsize=12)\n",
    "plt.yticks(fontsize=12)\n",
    "plt.xticks([0,10,20,30,40,50,60], [DayMonth[len(RS)-61],DayMonth[len(RS)-51],DayMonth[len(RS)-41],DayMonth[len(RS)-31],DayMonth[len(RS)-21],DayMonth[len(RS)-11],DayMonth[len(RS)-1]])\n",
    "plt.show()"
   ]
  },
  {
   "cell_type": "markdown",
   "metadata": {},
   "source": [
    "plt.xticks([0,5,10,15,20,25,30,35,40],\n",
    " [“24 Febr”, “29 Febr”, “5 Mar”, “10 Mar”, “15 Mar”, “20 Mar”, “25 Mar”, “30 Mar”, “4 Apr”])"
   ]
  },
  {
   "cell_type": "code",
   "execution_count": 17,
   "metadata": {
    "collapsed": true
   },
   "outputs": [],
   "source": [
    "NP_2021=NP[len(NP)-60:len(NP)]\n",
    "NP_2020=NP[len(NP)-60-365:len(NP)-365]"
   ]
  },
  {
   "cell_type": "code",
   "execution_count": 18,
   "metadata": {},
   "outputs": [
    {
     "data": {
      "image/png": "[encoded data removed]",
      "text/plain": [
       "<matplotlib.figure.Figure at 0x1a00a7ff5c0>"
      ]
     },
     "metadata": {},
     "output_type": "display_data"
    }
   ],
   "source": [
    "import matplotlib.pyplot as plt\n",
    "plt.scatter(X,NP_2020, color='red',label='2020')\n",
    "plt.scatter(X,NP_2021, color='green',label='2021')\n",
    "plt.grid()\n",
    "plt.xlabel('Days',fontsize=14, labelpad = 12)\n",
    "plt.ylabel('Nuovi positivi',fontsize=14, labelpad = 12)\n",
    "plt.xticks(fontsize=12)\n",
    "plt.yticks(fontsize=12)\n",
    "plt.legend(loc=\"upper left\")\n",
    "plt.xticks([0,10,20,30,40,50,60], [DayMonth[len(RS)-61],DayMonth[len(RS)-51],DayMonth[len(RS)-41],DayMonth[len(RS)-31],DayMonth[len(RS)-21],DayMonth[len(RS)-11],DayMonth[len(RS)-1]])\n",
    "plt.show()"
   ]
  },
  {
   "cell_type": "code",
   "execution_count": null,
   "metadata": {
    "collapsed": true
   },
   "outputs": [],
   "source": []
  },
  {
   "cell_type": "code",
   "execution_count": null,
   "metadata": {
    "collapsed": true
   },
   "outputs": [],
   "source": []
  }
 ],
 "metadata": {
  "kernelspec": {
   "display_name": "Python 3",
   "language": "python",
   "name": "python3"
  },
  "language_info": {
   "codemirror_mode": {
    "name": "ipython",
    "version": 3
   },
   "file_extension": ".py",
   "mimetype": "text/x-python",
   "name": "python",
   "nbconvert_exporter": "python",
   "pygments_lexer": "ipython3",
   "version": "3.6.1"
  }
 },
 "nbformat": 4,
 "nbformat_minor": 2
}
